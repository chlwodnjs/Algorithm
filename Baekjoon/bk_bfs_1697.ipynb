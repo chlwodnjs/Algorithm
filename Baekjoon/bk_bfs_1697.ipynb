{
 "cells": [
  {
   "cell_type": "code",
   "execution_count": 24,
   "id": "2849afa9",
   "metadata": {},
   "outputs": [],
   "source": [
    "from collections import deque\n",
    "    \n",
    "def bfs():\n",
    "    while q:\n",
    "        x = q.popleft()\n",
    "        if x == K : \n",
    "            return graph[x]\n",
    "        else:\n",
    "            for i in (x-1,x+1,x*2):\n",
    "                if 0<=i<100001 and not graph[i]:\n",
    "                    graph[i]=graph[x]+1\n",
    "                    q.append(i)\n",
    "        "
   ]
  },
  {
   "cell_type": "code",
   "execution_count": 25,
   "id": "05afd72e",
   "metadata": {},
   "outputs": [
    {
     "name": "stdout",
     "output_type": "stream",
     "text": [
      "5 17\n",
      "4\n"
     ]
    }
   ],
   "source": [
    "if __name__ == \"__main__\":\n",
    "    M = 100001\n",
    "    N,K = map(int,input().split())\n",
    "    graph = [0]*100001\n",
    "    q = deque()\n",
    "    q.append(N)\n",
    "    \n",
    "    print(bfs())"
   ]
  },
  {
   "cell_type": "code",
   "execution_count": null,
   "id": "50935f9e",
   "metadata": {},
   "outputs": [],
   "source": []
  }
 ],
 "metadata": {
  "kernelspec": {
   "display_name": "Python 3",
   "language": "python",
   "name": "python3"
  },
  "language_info": {
   "codemirror_mode": {
    "name": "ipython",
    "version": 3
   },
   "file_extension": ".py",
   "mimetype": "text/x-python",
   "name": "python",
   "nbconvert_exporter": "python",
   "pygments_lexer": "ipython3",
   "version": "3.9.7"
  }
 },
 "nbformat": 4,
 "nbformat_minor": 5
}
